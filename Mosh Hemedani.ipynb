{
 "cells": [
  {
   "cell_type": "markdown",
   "metadata": {},
   "source": [
    "## finding the max & sorting"
   ]
  },
  {
   "cell_type": "code",
   "execution_count": null,
   "metadata": {},
   "outputs": [],
   "source": [
    "l= [11, 33, 26, 2, 84, 400, 10, 21, 117]"
   ]
  },
  {
   "cell_type": "code",
   "execution_count": 208,
   "metadata": {},
   "outputs": [
    {
     "name": "stdout",
     "output_type": "stream",
     "text": [
      "400\n"
     ]
    }
   ],
   "source": [
    "# finding the largest number in the list\n",
    "max= l[0]\n",
    "#c= 0\n",
    "for i in l:\n",
    "    if i> max:\n",
    "        max= i\n",
    "#     c+= 1\n",
    "#     if c >= len(l):\n",
    "#         break\n",
    "print(max)"
   ]
  },
  {
   "cell_type": "code",
   "execution_count": 199,
   "metadata": {},
   "outputs": [
    {
     "name": "stdout",
     "output_type": "stream",
     "text": [
      "400\n"
     ]
    }
   ],
   "source": [
    "max1= l[0]\n",
    "for i in range(len(l)):\n",
    "    if l[i] > max1:\n",
    "        max1= l[i]\n",
    "print(max1)\n"
   ]
  },
  {
   "cell_type": "code",
   "execution_count": 204,
   "metadata": {},
   "outputs": [
    {
     "name": "stdout",
     "output_type": "stream",
     "text": [
      "1\n",
      "4\n",
      "5\n"
     ]
    }
   ],
   "source": [
    "ls= []\n",
    "max2= l[0]\n",
    "for i,j in enumerate(l):\n",
    "    if j> max2:\n",
    "        max2= j\n"
   ]
  },
  {
   "cell_type": "code",
   "execution_count": 210,
   "metadata": {},
   "outputs": [],
   "source": [
    "# 2D list:\n",
    "matrix= [[1,2,3], [4,5,6], [7,8,9]]"
   ]
  },
  {
   "cell_type": "code",
   "execution_count": 211,
   "metadata": {},
   "outputs": [
    {
     "data": {
      "text/plain": [
       "2"
      ]
     },
     "execution_count": 211,
     "metadata": {},
     "output_type": "execute_result"
    }
   ],
   "source": [
    "matrix[0][1]"
   ]
  },
  {
   "cell_type": "code",
   "execution_count": 212,
   "metadata": {
    "scrolled": true
   },
   "outputs": [
    {
     "name": "stdout",
     "output_type": "stream",
     "text": [
      "1\n",
      "2\n",
      "3\n",
      "4\n",
      "5\n",
      "6\n",
      "7\n",
      "8\n",
      "9\n"
     ]
    }
   ],
   "source": [
    "for row in matrix:\n",
    "    for item in row:\n",
    "        print(item)"
   ]
  },
  {
   "cell_type": "markdown",
   "metadata": {},
   "source": [
    "## Generating random values:## "
   ]
  },
  {
   "cell_type": "code",
   "execution_count": 224,
   "metadata": {},
   "outputs": [
    {
     "name": "stdout",
     "output_type": "stream",
     "text": [
      "0.8635555175475069\n",
      "0.7848442974713036\n",
      "0.4026164748674701\n"
     ]
    }
   ],
   "source": [
    "import random\n",
    "\n",
    "for i in range(3):\n",
    "    print(random.random())"
   ]
  },
  {
   "cell_type": "code",
   "execution_count": 228,
   "metadata": {},
   "outputs": [],
   "source": [
    "# random value in specific range:\n",
    "for i in range(10):\n",
    "    random.randint(10, 100)                        # unfortunately no result!\n"
   ]
  },
  {
   "cell_type": "code",
   "execution_count": 230,
   "metadata": {},
   "outputs": [
    {
     "name": "stdout",
     "output_type": "stream",
     "text": [
      "77\n",
      "94\n",
      "41\n",
      "26\n",
      "29\n",
      "57\n",
      "34\n",
      "38\n",
      "39\n",
      "95\n"
     ]
    }
   ],
   "source": [
    "for i in range(10):\n",
    "    print(random.randint(10, 100))"
   ]
  },
  {
   "cell_type": "code",
   "execution_count": 239,
   "metadata": {},
   "outputs": [
    {
     "data": {
      "text/plain": [
       "'Sam'"
      ]
     },
     "execution_count": 239,
     "metadata": {},
     "output_type": "execute_result"
    }
   ],
   "source": [
    "l1= [\"Sam\",\"Mohi\",\"mehdi\",\"heinrich\",\"yusta\",\"Ana\"]\n",
    "random.choice(l1).title()"
   ]
  },
  {
   "cell_type": "code",
   "execution_count": 257,
   "metadata": {},
   "outputs": [],
   "source": [
    "#Dice:\n",
    "def Roll0():\n",
    "    l= list(range(1,7))\n",
    "    a= random.choice(l)  \n",
    "    b= random.choice(l)\n",
    "    roll= (a, b)\n",
    "    print(l)\n",
    "    return roll"
   ]
  },
  {
   "cell_type": "code",
   "execution_count": 258,
   "metadata": {},
   "outputs": [
    {
     "name": "stdout",
     "output_type": "stream",
     "text": [
      "[1, 2, 3, 4, 5, 6]\n"
     ]
    },
    {
     "data": {
      "text/plain": [
       "(4, 2)"
      ]
     },
     "execution_count": 258,
     "metadata": {},
     "output_type": "execute_result"
    }
   ],
   "source": [
    "Roll0()"
   ]
  },
  {
   "cell_type": "code",
   "execution_count": 283,
   "metadata": {},
   "outputs": [],
   "source": [
    "# better:\n",
    "class Dice():\n",
    "    def Roll(self):\n",
    "        a= random.randint(1,6)\n",
    "        b= random.randint(1,6)\n",
    "        return a, b"
   ]
  },
  {
   "cell_type": "code",
   "execution_count": 284,
   "metadata": {},
   "outputs": [],
   "source": [
    "roll1= Dice()"
   ]
  },
  {
   "cell_type": "code",
   "execution_count": 285,
   "metadata": {},
   "outputs": [
    {
     "name": "stdout",
     "output_type": "stream",
     "text": [
      "(3, 5)\n"
     ]
    }
   ],
   "source": [
    "print(roll1.Roll())"
   ]
  },
  {
   "cell_type": "markdown",
   "metadata": {},
   "source": [
    "## Files & Directories"
   ]
  },
  {
   "cell_type": "code",
   "execution_count": 334,
   "metadata": {},
   "outputs": [],
   "source": [
    "from pathlib import Path"
   ]
  },
  {
   "cell_type": "code",
   "execution_count": 335,
   "metadata": {},
   "outputs": [],
   "source": [
    "# storing a path object in path1>\n",
    "path1= Path(\"my_own_path\")"
   ]
  },
  {
   "cell_type": "code",
   "execution_count": 336,
   "metadata": {},
   "outputs": [
    {
     "name": "stdout",
     "output_type": "stream",
     "text": [
      "False\n"
     ]
    }
   ],
   "source": [
    "print(path1.exists())"
   ]
  },
  {
   "cell_type": "code",
   "execution_count": 337,
   "metadata": {},
   "outputs": [],
   "source": [
    "# it doesnt exist, to create it:\n",
    "path1.mkdir()                            "
   ]
  },
  {
   "cell_type": "code",
   "execution_count": 338,
   "metadata": {},
   "outputs": [
    {
     "data": {
      "text/plain": [
       "WindowsPath('my_own_path')"
      ]
     },
     "execution_count": 338,
     "metadata": {},
     "output_type": "execute_result"
    }
   ],
   "source": [
    "path1"
   ]
  },
  {
   "cell_type": "code",
   "execution_count": 339,
   "metadata": {},
   "outputs": [
    {
     "data": {
      "text/plain": [
       "True"
      ]
     },
     "execution_count": 339,
     "metadata": {},
     "output_type": "execute_result"
    }
   ],
   "source": [
    "path1.exists()"
   ]
  },
  {
   "cell_type": "code",
   "execution_count": 340,
   "metadata": {},
   "outputs": [],
   "source": [
    "# deleting a path:\n",
    "path1.rmdir()"
   ]
  },
  {
   "cell_type": "code",
   "execution_count": 341,
   "metadata": {},
   "outputs": [
    {
     "data": {
      "text/plain": [
       "False"
      ]
     },
     "execution_count": 341,
     "metadata": {},
     "output_type": "execute_result"
    }
   ],
   "source": [
    "path1.exists()"
   ]
  },
  {
   "cell_type": "code",
   "execution_count": 350,
   "metadata": {},
   "outputs": [],
   "source": [
    "path2= Path()         # this means our current directory"
   ]
  },
  {
   "cell_type": "code",
   "execution_count": 353,
   "metadata": {},
   "outputs": [
    {
     "name": "stdout",
     "output_type": "stream",
     "text": [
      "<generator object Path.glob at 0x000001B51E8B80B0>\n"
     ]
    }
   ],
   "source": [
    "print(path2.glob('*.ipynb'))                             # we can see its a generator object >> we can iterate through it"
   ]
  },
  {
   "cell_type": "code",
   "execution_count": 354,
   "metadata": {},
   "outputs": [
    {
     "name": "stdout",
     "output_type": "stream",
     "text": [
      "CS Dojo.ipynb\n",
      "Khorashid's learning 4 (oop1).ipynb\n",
      "Khorashid's learning 5 ( oop2 ).ipynb\n",
      "Khorashid's Teaching 1.ipynb\n",
      "Khorashid's Teaching 2 (dictionary).ipynb\n",
      "Khorashid's teaching 3.ipynb\n",
      "learning-if-loop-1.ipynb\n",
      "Mosh Hemedani.ipynb\n",
      "Untitled.ipynb\n",
      "Untitled1.ipynb\n",
      "Untitled2.ipynb\n",
      "Untitled3.ipynb\n",
      "Untitled4.ipynb\n"
     ]
    }
   ],
   "source": [
    "# for iterating through a \n",
    "for f in path2.glob('*.ipynb'):                         # with golb we can search the files in ozr current directories\n",
    "    print(f)                                            # * means anything"
   ]
  },
  {
   "cell_type": "code",
   "execution_count": 356,
   "metadata": {},
   "outputs": [
    {
     "name": "stdout",
     "output_type": "stream",
     "text": [
      ".conda\n",
      ".condarc\n",
      ".ipynb_checkpoints\n",
      ".ipython\n",
      ".jupyter\n",
      "3D Objects\n",
      "anaconda3\n",
      "Anwendungsdaten\n",
      "AppData\n",
      "Contacts\n",
      "Cookies\n",
      "CS Dojo.ipynb\n",
      "Documents\n",
      "Downloads\n",
      "Druckumgebung\n",
      "Eigene Dateien\n",
      "Favorites\n",
      "first\n",
      "first_own_path\n",
      "IntelGraphicsProfiles\n",
      "Khorashid's learning 4 (oop1).ipynb\n",
      "Khorashid's learning 5 ( oop2 ).ipynb\n",
      "Khorashid's Teaching 1.ipynb\n",
      "Khorashid's Teaching 2 (dictionary).ipynb\n",
      "Khorashid's teaching 3.ipynb\n",
      "learning-if-loop-1.ipynb\n",
      "Links\n",
      "Lokale Einstellungen\n",
      "Mosh Hemedani.ipynb\n",
      "Music\n",
      "Netzwerkumgebung\n",
      "NTUSER.DAT\n",
      "ntuser.dat.LOG1\n",
      "ntuser.dat.LOG2\n",
      "NTUSER.DAT{c0fffde7-7bf6-11eb-8c75-709cd1a9e8bc}.TM.blf\n",
      "NTUSER.DAT{c0fffde7-7bf6-11eb-8c75-709cd1a9e8bc}.TMContainer00000000000000000001.regtrans-ms\n",
      "NTUSER.DAT{c0fffde7-7bf6-11eb-8c75-709cd1a9e8bc}.TMContainer00000000000000000002.regtrans-ms\n",
      "ntuser.ini\n",
      "OneDrive\n",
      "Recent\n",
      "Saved Games\n",
      "Searches\n",
      "SendTo\n",
      "Startmenü\n",
      "Untitled.ipynb\n",
      "Untitled1.ipynb\n",
      "Untitled2.ipynb\n",
      "Untitled3.ipynb\n",
      "Untitled4.ipynb\n",
      "Videos\n",
      "Vorlagen\n"
     ]
    }
   ],
   "source": [
    "for f in path2.glob('*'):                               # it means all files aside from the type     \n",
    "    print(f)"
   ]
  },
  {
   "cell_type": "markdown",
   "metadata": {},
   "source": [
    "## pypi.org  is a package from all user, can be accessed by all other people"
   ]
  },
  {
   "cell_type": "code",
   "execution_count": 358,
   "metadata": {},
   "outputs": [],
   "source": [
    "# for example: we want to send sms with python, we can simply search in it!"
   ]
  },
  {
   "cell_type": "markdown",
   "metadata": {},
   "source": [
    "## How to access, change excel files"
   ]
  },
  {
   "cell_type": "code",
   "execution_count": 359,
   "metadata": {},
   "outputs": [],
   "source": [
    "# we can build a chart for 1000s datasheets! just with excel its gonna thke about one week!"
   ]
  },
  {
   "cell_type": "code",
   "execution_count": 360,
   "metadata": {},
   "outputs": [],
   "source": [
    "# mosh hamedani python  >>  03:50:00"
   ]
  },
  {
   "cell_type": "code",
   "execution_count": 363,
   "metadata": {},
   "outputs": [
    {
     "ename": "SyntaxError",
     "evalue": "invalid syntax (<ipython-input-363-d5db419dd162>, line 2)",
     "output_type": "error",
     "traceback": [
      "\u001b[1;36m  File \u001b[1;32m\"<ipython-input-363-d5db419dd162>\"\u001b[1;36m, line \u001b[1;32m2\u001b[0m\n\u001b[1;33m    def Process_workbook(\"file_name\"):\u001b[0m\n\u001b[1;37m                         ^\u001b[0m\n\u001b[1;31mSyntaxError\u001b[0m\u001b[1;31m:\u001b[0m invalid syntax\n"
     ]
    }
   ],
   "source": [
    "# defining a function that get the path:\n",
    "def Process_workbook(\"file_name\"):\n",
    "    pass"
   ]
  },
  {
   "cell_type": "markdown",
   "metadata": {},
   "source": [
    "# Machine Learning"
   ]
  },
  {
   "cell_type": "code",
   "execution_count": 364,
   "metadata": {},
   "outputs": [
    {
     "ename": "IndentationError",
     "evalue": "unexpected indent (<ipython-input-364-1c468ffafc14>, line 2)",
     "output_type": "error",
     "traceback": [
      "\u001b[1;36m  File \u001b[1;32m\"<ipython-input-364-1c468ffafc14>\"\u001b[1;36m, line \u001b[1;32m2\u001b[0m\n\u001b[1;33m    Numpy  >>  provides multi dimensional array\u001b[0m\n\u001b[1;37m    ^\u001b[0m\n\u001b[1;31mIndentationError\u001b[0m\u001b[1;31m:\u001b[0m unexpected indent\n"
     ]
    }
   ],
   "source": [
    "# Libraries:\n",
    "            Numpy  >>  provides multi dimensional array\n",
    "            Panda  >>  Data analysis labrary provide a concept called: data frame\n",
    "            MarPlotLib  >>  2D plotting library for creating graphs and plots\n",
    "            Scikit Learn >> provides all algorithm like descision trees, neuronal network etc"
   ]
  },
  {
   "cell_type": "code",
   "execution_count": null,
   "metadata": {},
   "outputs": [],
   "source": [
    "# Data frame >> a 2d data structure, similar ti excel spread sheet. It has row an colomn and we can selct a data base on them"
   ]
  }
 ],
 "metadata": {
  "kernelspec": {
   "display_name": "Python 3",
   "language": "python",
   "name": "python3"
  },
  "language_info": {
   "codemirror_mode": {
    "name": "ipython",
    "version": 3
   },
   "file_extension": ".py",
   "mimetype": "text/x-python",
   "name": "python",
   "nbconvert_exporter": "python",
   "pygments_lexer": "ipython3",
   "version": "3.8.5"
  }
 },
 "nbformat": 4,
 "nbformat_minor": 4
}
